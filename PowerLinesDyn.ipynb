{
 "cells": [
  {
   "cell_type": "markdown",
   "id": "7b942cb4-ca7a-42d4-80bb-7c75bd39d0bd",
   "metadata": {},
   "source": [
    "# Détection dynamique des lignes électriques aériennes pour le ProjetAmpere\n",
    "\n",
    "Reprend en grande partie le code du notebook PowerLine.ipynb mais sur des rafales d'images disponibles dans le dossier. "
   ]
  },
  {
   "cell_type": "code",
   "execution_count": 1,
   "id": "f498f413-730b-459b-99ad-73e36ba8bad5",
   "metadata": {},
   "outputs": [],
   "source": [
    "import tensorflow as tf\n",
    "import os\n",
    "import cv2\n",
    "import matplotlib.pyplot as plt\n",
    "import numpy as np\n",
    "from tqdm import tqdm"
   ]
  },
  {
   "cell_type": "code",
   "execution_count": 2,
   "id": "5a5e9f4f-a405-4837-91bb-5f46964ce248",
   "metadata": {},
   "outputs": [
    {
     "name": "stdout",
     "output_type": "stream",
     "text": [
      "C:\\Users\\VArri\\Documents\\PowerLines\\images\\visuel\n"
     ]
    }
   ],
   "source": [
    "os.chdir(r\"C:\\Users\\VArri\\Documents\\PowerLines\\images\\visuel\")\n",
    "path = os.getcwd()\n",
    "print(path)"
   ]
  },
  {
   "cell_type": "code",
   "execution_count": 3,
   "id": "c8e204b3-a39b-4d8a-a64a-968224f5e303",
   "metadata": {},
   "outputs": [
    {
     "name": "stdout",
     "output_type": "stream",
     "text": [
      "Model: \"sequential\"\n",
      "_________________________________________________________________\n",
      "Layer (type)                 Output Shape              Param #   \n",
      "=================================================================\n",
      "conv2d (Conv2D)              (None, 24, 24, 6)         156       \n",
      "_________________________________________________________________\n",
      "max_pooling2d (MaxPooling2D) (None, 12, 12, 6)         0         \n",
      "_________________________________________________________________\n",
      "conv2d_1 (Conv2D)            (None, 8, 8, 12)          1812      \n",
      "_________________________________________________________________\n",
      "max_pooling2d_1 (MaxPooling2 (None, 4, 4, 12)          0         \n",
      "_________________________________________________________________\n",
      "flatten (Flatten)            (None, 192)               0         \n",
      "_________________________________________________________________\n",
      "dense (Dense)                (None, 192)               37056     \n",
      "_________________________________________________________________\n",
      "dense_1 (Dense)              (None, 1)                 193       \n",
      "=================================================================\n",
      "Total params: 39,217\n",
      "Trainable params: 39,217\n",
      "Non-trainable params: 0\n",
      "_________________________________________________________________\n"
     ]
    }
   ],
   "source": [
    "new_model = tf.keras.models.load_model('CNN/model')\n",
    "\n",
    "# Check its architecture\n",
    "new_model.summary()"
   ]
  },
  {
   "cell_type": "code",
   "execution_count": 4,
   "id": "5919a93d-8c92-4fcb-9cc1-5c4f1446ab87",
   "metadata": {},
   "outputs": [
    {
     "name": "stdout",
     "output_type": "stream",
     "text": [
      "C:\\Users\\VArri\\Documents\\PowerLines\\images\\visuel\\steered1000\n"
     ]
    }
   ],
   "source": [
    "steered_path = os.path.join(path, 'steered1000')\n",
    "print(steered_path)"
   ]
  },
  {
   "cell_type": "code",
   "execution_count": 5,
   "id": "2c771be8-fbdb-4789-b403-ef199fed7023",
   "metadata": {},
   "outputs": [],
   "source": [
    "img_lst = [img_name for img_name in os.listdir(steered_path) if img_name.startswith('20210507_133045')]\n",
    "# result"
   ]
  },
  {
   "cell_type": "code",
   "execution_count": 6,
   "id": "8b533ade-e906-4be5-a3c3-f2eb186e4f19",
   "metadata": {},
   "outputs": [
    {
     "name": "stderr",
     "output_type": "stream",
     "text": [
      "100%|██████████████████████████████████████████████████████████████████████████████| 989/989 [00:00<00:00, 1810.89it/s]\n"
     ]
    },
    {
     "ename": "NameError",
     "evalue": "name 'img_name' is not defined",
     "output_type": "error",
     "traceback": [
      "\u001b[1;31m---------------------------------------------------------------------------\u001b[0m",
      "\u001b[1;31mNameError\u001b[0m                                 Traceback (most recent call last)",
      "\u001b[1;32m<ipython-input-6-b544887c7571>\u001b[0m in \u001b[0;36m<module>\u001b[1;34m\u001b[0m\n\u001b[0;32m     19\u001b[0m \u001b[1;33m\u001b[0m\u001b[0m\n\u001b[0;32m     20\u001b[0m     \u001b[0mlines\u001b[0m \u001b[1;33m=\u001b[0m \u001b[0mcv2\u001b[0m\u001b[1;33m.\u001b[0m\u001b[0mHoughLinesP\u001b[0m\u001b[1;33m(\u001b[0m\u001b[0mimage\u001b[0m\u001b[1;33m=\u001b[0m\u001b[0mdetect\u001b[0m\u001b[1;33m,\u001b[0m \u001b[0mrho\u001b[0m\u001b[1;33m=\u001b[0m\u001b[1;36m1\u001b[0m\u001b[1;33m,\u001b[0m \u001b[0mtheta\u001b[0m\u001b[1;33m=\u001b[0m\u001b[0mnp\u001b[0m\u001b[1;33m.\u001b[0m\u001b[0mpi\u001b[0m\u001b[1;33m/\u001b[0m\u001b[1;36m180\u001b[0m\u001b[1;33m,\u001b[0m \u001b[0mthreshold\u001b[0m\u001b[1;33m=\u001b[0m\u001b[1;36m50\u001b[0m\u001b[1;33m,\u001b[0m \u001b[0mlines\u001b[0m\u001b[1;33m=\u001b[0m\u001b[0mnp\u001b[0m\u001b[1;33m.\u001b[0m\u001b[0marray\u001b[0m\u001b[1;33m(\u001b[0m\u001b[1;33m[\u001b[0m\u001b[1;33m]\u001b[0m\u001b[1;33m)\u001b[0m\u001b[1;33m,\u001b[0m\u001b[0mminLineLength\u001b[0m\u001b[1;33m=\u001b[0m\u001b[1;36m300\u001b[0m\u001b[1;33m,\u001b[0m \u001b[0mmaxLineGap\u001b[0m\u001b[1;33m=\u001b[0m\u001b[1;36m50\u001b[0m\u001b[1;33m)\u001b[0m\u001b[1;33m\u001b[0m\u001b[1;33m\u001b[0m\u001b[0m\n\u001b[1;32m---> 21\u001b[1;33m     \u001b[0mlst\u001b[0m \u001b[1;33m=\u001b[0m \u001b[0mimg_name\u001b[0m\u001b[1;33m.\u001b[0m\u001b[0msplit\u001b[0m\u001b[1;33m(\u001b[0m\u001b[1;34m'_'\u001b[0m\u001b[1;33m)\u001b[0m\u001b[1;33m\u001b[0m\u001b[1;33m\u001b[0m\u001b[0m\n\u001b[0m\u001b[0;32m     22\u001b[0m     \u001b[0morigin\u001b[0m \u001b[1;33m=\u001b[0m \u001b[1;34m'_'\u001b[0m\u001b[1;33m.\u001b[0m\u001b[0mjoin\u001b[0m\u001b[1;33m(\u001b[0m\u001b[0mlst\u001b[0m\u001b[1;33m[\u001b[0m\u001b[1;33m:\u001b[0m\u001b[1;33m-\u001b[0m\u001b[1;36m2\u001b[0m\u001b[1;33m]\u001b[0m\u001b[1;33m)\u001b[0m \u001b[1;33m+\u001b[0m \u001b[1;34m'_edge.jpg'\u001b[0m\u001b[1;33m\u001b[0m\u001b[1;33m\u001b[0m\u001b[0m\n\u001b[0;32m     23\u001b[0m     \u001b[1;31m# os.chdir('../edge1000')\u001b[0m\u001b[1;33m\u001b[0m\u001b[1;33m\u001b[0m\u001b[1;33m\u001b[0m\u001b[0m\n",
      "\u001b[1;31mNameError\u001b[0m: name 'img_name' is not defined"
     ]
    }
   ],
   "source": [
    "for img_path in img_lst:\n",
    "    \n",
    "    img_path = os.path.join(steered_path, img_path)\n",
    "    img = cv2.imread(img_path, 0)\n",
    "    img = img.astype('float32') /255\n",
    "    \n",
    "    img_shape = img.shape\n",
    "    detect = np.zeros(img_shape)\n",
    "    HT = int(28/2)\n",
    "    \n",
    "    cropped = []\n",
    "    for i in tqdm(range(HT, int((img.shape[0]-HT+1)))):\n",
    "        for j in range(HT, img.shape[1]-HT+1):\n",
    "            cropped.append(img[i-HT:i+HT, j-HT:j+HT])\n",
    "\n",
    "    cropped = np.array(cropped).astype(np.float32).reshape([len(cropped), 28, 28, 1])\n",
    "    detect = new_model.predict(cropped).round()\n",
    "    detect = detect.reshape(int((img.shape[0]-HT+1)) - HT, img.shape[1]-HT+1 - HT).astype(np.uint8)\n",
    "    \n",
    "    lines = cv2.HoughLinesP(image=detect, rho=1, theta=np.pi/180, threshold=50, lines=np.array([]),minLineLength=300, maxLineGap=50)\n",
    "    lst = img_name.split('_')\n",
    "    origin = '_'.join(lst[:-2]) + '_edge.jpg'\n",
    "    # os.chdir('../edge1000')\n",
    "\n",
    "    img = cv2.imread(os.path.join(path, 'edge1000',origin), 1)\n",
    "    img = cv2.cvtColor(img, cv2.COLOR_BGR2RGB)\n",
    "    a,b,c = lines.shape\n",
    "    print(lines.shape)\n",
    "    for i in range(a):\n",
    "        l = lines[i][0]\n",
    "        cv2.line(img, (l[0]+HT, l[1]+HT), (l[2]+HT, l[3]+HT), (255,0,0), 1, cv2.LINE_AA)\n",
    "        # cv2.imwrite('houghlines4.jpg', img)\n",
    "    plt.figure(figsize=(16, 8)) \n",
    "    plt.imshow(img)\n",
    "    plt.show()\n",
    "    \n",
    "    cv2.cvtColor(img, cv2.COLOR_RGB2BGR)\n",
    "    cv2.imwrite(os.path.join(path,'dyn','_'.join(lst[:-2]) + '_dyn.jpg'), img)\n",
    "    "
   ]
  }
 ],
 "metadata": {
  "kernelspec": {
   "display_name": "Python 3",
   "language": "python",
   "name": "python3"
  },
  "language_info": {
   "codemirror_mode": {
    "name": "ipython",
    "version": 3
   },
   "file_extension": ".py",
   "mimetype": "text/x-python",
   "name": "python",
   "nbconvert_exporter": "python",
   "pygments_lexer": "ipython3",
   "version": "3.8.8"
  }
 },
 "nbformat": 4,
 "nbformat_minor": 5
}
