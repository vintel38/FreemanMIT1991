{
 "cells": [
  {
   "cell_type": "markdown",
   "id": "7e1226b8",
   "metadata": {},
   "source": [
    "# Power Line Detection via Background Noise Removal"
   ]
  },
  {
   "cell_type": "code",
   "execution_count": 9,
   "id": "fefd6984",
   "metadata": {},
   "outputs": [],
   "source": [
    "import tensorflow as tf\n",
    "import tensorflow.keras as keras\n",
    "import numpy as np\n",
    "import matplotlib.pyplot as plt\n",
    "import os"
   ]
  },
  {
   "cell_type": "code",
   "execution_count": 10,
   "id": "11f0fb00",
   "metadata": {},
   "outputs": [
    {
     "name": "stdout",
     "output_type": "stream",
     "text": [
      "C:\\Users\\VArri\\Documents\\PowerLines\\images\\visuel\\cropped\n"
     ]
    }
   ],
   "source": [
    "os.chdir(r\"C:\\Users\\VArri\\Documents\\PowerLines\\images\\visuel\\cropped\")\n",
    "print(os.getcwd())\n",
    "path = os.getcwd()"
   ]
  },
  {
   "cell_type": "code",
   "execution_count": 78,
   "id": "5753bf93",
   "metadata": {},
   "outputs": [],
   "source": [
    "lst = os.listdir()\n",
    "imageslst = list()\n",
    "labelslst = list()\n",
    "labels = list()\n",
    "\n",
    "for lis in lst:\n",
    "    \n",
    "    if (lis.endswith('.jpg') or lis.endswith('.jpeg')):\n",
    "        \n",
    "        filename, extension = lis.split('.')\n",
    "        filetxt = '.'.join((filename, 'txt'))\n",
    "        \n",
    "        if os.path.exists(filetxt):\n",
    "            imageslst.append(os.path.join(path,lis))\n",
    "            labelslst.append(os.path.join(path, filetxt))\n",
    "            f = open(filetxt, \"r\")\n",
    "            labels.append(int(f.read()))\n",
    "            f.close()\n",
    "\n",
    "# Convert to tensors\n",
    "imagepaths = tf.convert_to_tensor(imageslst, dtype=tf.string)\n",
    "labelpaths = tf.convert_to_tensor(labelslst, dtype=tf.string)\n",
    "labels = tf.convert_to_tensor(labels, dtype=tf.int8)\n",
    "\n",
    "# https://stackoverflow.com/questions/37340129/tensorflow-training-on-my-own-image\n",
    "# step 2: create a dataset returning slices of `filenames`\n",
    "dataset = tf.data.Dataset.from_tensor_slices((imagepaths, labels))\n",
    "\n",
    "# step 3: parse every image in the dataset using `map`\n",
    "def _parse_function(filename, label):\n",
    "    image_string = tf.io.read_file(filename)\n",
    "    image_decoded = tf.image.decode_jpeg(image_string, channels=1)\n",
    "    image = tf.cast(image_decoded, tf.float32)\n",
    "    return image, label\n",
    "\n",
    "dataset = dataset.map(_parse_function)\n",
    "# dataset = dataset.batch(2)\n",
    "\n",
    "# step 4: create iterator and final input tensor\n",
    "#iterator = tf.compat.v1.data.make_one_shot_iterator(dataset)\n",
    "#images, labels = iterator.get_next()"
   ]
  },
  {
   "cell_type": "code",
   "execution_count": 79,
   "id": "492708af",
   "metadata": {},
   "outputs": [
    {
     "data": {
      "text/plain": [
       "<MapDataset shapes: ((None, None, 1), ()), types: (tf.float32, tf.int8)>"
      ]
     },
     "execution_count": 79,
     "metadata": {},
     "output_type": "execute_result"
    }
   ],
   "source": [
    "dataset"
   ]
  },
  {
   "cell_type": "markdown",
   "id": "dfc3ee97",
   "metadata": {},
   "source": [
    "## D) CNN classifier"
   ]
  },
  {
   "cell_type": "code",
   "execution_count": 15,
   "id": "75a05090",
   "metadata": {},
   "outputs": [],
   "source": [
    "model = keras.models.Sequential([\n",
    "    keras.layers.Conv2D(6, kernel_size=5, strides=1, padding=\"valid\", input_shape=[28,28,1]),\n",
    "    keras.layers.MaxPool2D(pool_size=2),\n",
    "    keras.layers.Conv2D(12, kernel_size=5, strides=1, padding=\"valid\"),\n",
    "    keras.layers.MaxPool2D(pool_size=2),\n",
    "    keras.layers.Flatten(),\n",
    "    keras.layers.Dense(192),\n",
    "    keras.layers.Dense(2, activation=\"softmax\")\n",
    "])"
   ]
  },
  {
   "cell_type": "code",
   "execution_count": 16,
   "id": "39c8f1fa",
   "metadata": {},
   "outputs": [
    {
     "name": "stdout",
     "output_type": "stream",
     "text": [
      "Model: \"sequential_1\"\n",
      "_________________________________________________________________\n",
      "Layer (type)                 Output Shape              Param #   \n",
      "=================================================================\n",
      "conv2d_2 (Conv2D)            (None, 24, 24, 6)         156       \n",
      "_________________________________________________________________\n",
      "max_pooling2d_2 (MaxPooling2 (None, 12, 12, 6)         0         \n",
      "_________________________________________________________________\n",
      "conv2d_3 (Conv2D)            (None, 8, 8, 12)          1812      \n",
      "_________________________________________________________________\n",
      "max_pooling2d_3 (MaxPooling2 (None, 4, 4, 12)          0         \n",
      "_________________________________________________________________\n",
      "flatten_1 (Flatten)          (None, 192)               0         \n",
      "_________________________________________________________________\n",
      "dense_2 (Dense)              (None, 192)               37056     \n",
      "_________________________________________________________________\n",
      "dense_3 (Dense)              (None, 2)                 386       \n",
      "=================================================================\n",
      "Total params: 39,410\n",
      "Trainable params: 39,410\n",
      "Non-trainable params: 0\n",
      "_________________________________________________________________\n"
     ]
    }
   ],
   "source": [
    "model.summary()"
   ]
  },
  {
   "cell_type": "code",
   "execution_count": 17,
   "id": "96695719",
   "metadata": {},
   "outputs": [],
   "source": [
    "model.compile(optimizer='adam',\n",
    "              loss=tf.keras.losses.SparseCategoricalCrossentropy(from_logits=True),\n",
    "              metrics=['accuracy'])"
   ]
  },
  {
   "cell_type": "code",
   "execution_count": null,
   "id": "0de06ed3",
   "metadata": {},
   "outputs": [],
   "source": []
  }
 ],
 "metadata": {
  "kernelspec": {
   "display_name": "Python 3",
   "language": "python",
   "name": "python3"
  },
  "language_info": {
   "codemirror_mode": {
    "name": "ipython",
    "version": 3
   },
   "file_extension": ".py",
   "mimetype": "text/x-python",
   "name": "python",
   "nbconvert_exporter": "python",
   "pygments_lexer": "ipython3",
   "version": "3.6.12"
  }
 },
 "nbformat": 4,
 "nbformat_minor": 5
}
