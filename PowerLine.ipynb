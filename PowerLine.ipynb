{
 "cells": [
  {
   "cell_type": "markdown",
   "id": "68486009",
   "metadata": {},
   "source": [
    "# Power Line Detection via Background Noise Removal\n",
    "\n",
    "https://www.tensorflow.org/tutorials/images/classification"
   ]
  },
  {
   "cell_type": "code",
   "execution_count": 1,
   "id": "1aa05347",
   "metadata": {},
   "outputs": [],
   "source": [
    "import tensorflow as tf\n",
    "import tensorflow.keras as keras\n",
    "import numpy as np\n",
    "import matplotlib.pyplot as plt\n",
    "import os"
   ]
  },
  {
   "cell_type": "code",
   "execution_count": 2,
   "id": "788ea5d5",
   "metadata": {},
   "outputs": [
    {
     "name": "stdout",
     "output_type": "stream",
     "text": [
      "C:\\Users\\VArri\\Documents\\PowerLines\\images\\visuel\\cropped\n"
     ]
    }
   ],
   "source": [
    "os.chdir(r\"C:\\Users\\VArri\\Documents\\PowerLines\\images\\visuel\\cropped\")\n",
    "print(os.getcwd())\n",
    "path = os.getcwd()"
   ]
  },
  {
   "cell_type": "markdown",
   "id": "c0acf946",
   "metadata": {},
   "source": [
    "## Creation du dataset avec les contours annotés de la Power Line Detection "
   ]
  },
  {
   "cell_type": "raw",
   "id": "09622387",
   "metadata": {},
   "source": [
    "lst = os.listdir()\n",
    "imageslst = list()\n",
    "labelslst = list()\n",
    "labels = list()\n",
    "\n",
    "for lis in lst:\n",
    "    \n",
    "    if (lis.endswith('.jpg') or lis.endswith('.jpeg')):\n",
    "        \n",
    "        filename, extension = lis.split('.')\n",
    "        filetxt = '.'.join((filename, 'txt'))\n",
    "        \n",
    "        if os.path.exists(filetxt):\n",
    "            imageslst.append(os.path.join(path,lis))\n",
    "            labelslst.append(os.path.join(path, filetxt))\n",
    "            f = open(filetxt, \"r\")\n",
    "            labels.append(int(f.read()))\n",
    "            f.close()\n",
    "\n",
    "# print(labels)\n",
    "            \n",
    "# Convert to tensors\n",
    "imagepaths = tf.convert_to_tensor(imageslst, dtype=tf.string)\n",
    "labelpaths = tf.convert_to_tensor(labelslst, dtype=tf.string)\n",
    "labels = tf.convert_to_tensor(labels, dtype=tf.int8)\n",
    "\n",
    "# https://rubikscode.net/2019/12/09/creating-custom-tensorflow-dataset/\n",
    "\n",
    "# https://stackoverflow.com/questions/37340129/tensorflow-training-on-my-own-image\n",
    "# step 2: create a dataset returning slices of `filenames`\n",
    "dataset = tf.data.Dataset.from_tensor_slices((imagepaths, labels))\n",
    "\n",
    "# step 3: parse every image in the dataset using `map`\n",
    "def _parse_function(filename, label):\n",
    "    image_string = tf.io.read_file(filename)\n",
    "    image_decoded = tf.image.decode_jpeg(image_string, channels=1)\n",
    "    image = tf.cast(image_decoded, tf.float32)\n",
    "    return image, label\n",
    "\n",
    "dataset = dataset.map(_parse_function)\n",
    "#dataset = dataset.batch(2)\n",
    "\n",
    "# step 4: create iterator and final input tensor\n",
    "iterator = tf.compat.v1.data.make_one_shot_iterator(dataset) # génère un itérateur pour naviguer facilement dans le dataset\n",
    "images, labels = iterator.get_next() # retourne le prochain élément d'un dataset Tensorflow "
   ]
  },
  {
   "cell_type": "raw",
   "id": "ddb2790a",
   "metadata": {},
   "source": [
    "images.shape"
   ]
  },
  {
   "cell_type": "raw",
   "id": "861aa516",
   "metadata": {},
   "source": [
    "labels.shape"
   ]
  },
  {
   "cell_type": "code",
   "execution_count": 3,
   "id": "17cbf6a7",
   "metadata": {},
   "outputs": [
    {
     "name": "stdout",
     "output_type": "stream",
     "text": [
      "Found 2369 files belonging to 2 classes.\n",
      "Using 1896 files for training.\n",
      "Found 2369 files belonging to 2 classes.\n",
      "Using 473 files for validation.\n"
     ]
    }
   ],
   "source": [
    "img_height = 28\n",
    "img_width = 28\n",
    "batch_size = 16\n",
    "\n",
    "# https://www.tensorflow.org/api_docs/python/tf/keras/preprocessing/image_dataset_from_directory\n",
    "# https://www.youtube.com/watch?v=q7ZuZ8ZOErE\n",
    "# requires Tensorflow 2.3, hence Python >=3.7 to use keras.preprocessing.image_dataset_from_directory()\n",
    "\n",
    "ds_train = keras.preprocessing.image_dataset_from_directory(\n",
    "    r\"C:\\Users\\VArri\\Documents\\PowerLines\\images\\visuel\\cropped\", \n",
    "    labels='inferred',\n",
    "    label_mode = \"binary\",\n",
    "    color_mode = 'grayscale',\n",
    "    batch_size = batch_size,\n",
    "    image_size = (img_height, img_width),\n",
    "    shuffle = True, \n",
    "    seed=123,\n",
    "    validation_split = 0.2,\n",
    "    subset = \"training\",\n",
    ")\n",
    "\n",
    "ds_validation = keras.preprocessing.image_dataset_from_directory(\n",
    "    r\"C:\\Users\\VArri\\Documents\\PowerLines\\images\\visuel\\cropped\", \n",
    "    labels='inferred',\n",
    "    label_mode = \"binary\",\n",
    "    color_mode = 'grayscale',\n",
    "    batch_size = batch_size,\n",
    "    image_size = (img_height, img_width),\n",
    "    shuffle = True, \n",
    "    seed=123,\n",
    "    validation_split = 0.2,\n",
    "    subset = \"validation\",\n",
    ")"
   ]
  },
  {
   "cell_type": "code",
   "execution_count": 4,
   "id": "92f77d0b-f4a2-48ad-8a5a-6164ddabb3bf",
   "metadata": {},
   "outputs": [
    {
     "name": "stdout",
     "output_type": "stream",
     "text": [
      "['0', '1']\n"
     ]
    }
   ],
   "source": [
    "class_names = ds_train.class_names\n",
    "print(class_names)"
   ]
  },
  {
   "cell_type": "code",
   "execution_count": 5,
   "id": "c2ddeffc-d8bc-46bf-ae6c-2efa46492ea0",
   "metadata": {},
   "outputs": [
    {
     "data": {
      "image/png": "[encoded data removed]",
      "text/plain": [
       "<Figure size 720x720 with 9 Axes>"
      ]
     },
     "metadata": {
      "needs_background": "light"
     },
     "output_type": "display_data"
    }
   ],
   "source": [
    "import matplotlib.pyplot as plt\n",
    "\n",
    "plt.figure(figsize=(10, 10))\n",
    "for images, labels in ds_train.take(1):\n",
    "    for i in range(9):\n",
    "        ax = plt.subplot(3, 3, i + 1)\n",
    "        plt.imshow(images[i].numpy().astype(\"uint8\"))\n",
    "        plt.title(class_names[int(labels[i])])\n",
    "        plt.axis(\"off\")"
   ]
  },
  {
   "cell_type": "markdown",
   "id": "daa3e0e2",
   "metadata": {},
   "source": [
    "## D) CNN classifier"
   ]
  },
  {
   "cell_type": "code",
   "execution_count": 6,
   "id": "5fc51a07",
   "metadata": {},
   "outputs": [],
   "source": [
    "model = keras.models.Sequential([\n",
    "    keras.layers.experimental.preprocessing.Rescaling(1./255, input_shape=[28,28,1]),\n",
    "    keras.layers.Conv2D(6, kernel_size=5, strides=1, padding=\"valid\"),\n",
    "    keras.layers.MaxPool2D(pool_size=2),\n",
    "    #keras.layers.Conv2D(12, kernel_size=5, strides=1, padding=\"valid\"),\n",
    "    keras.layers.MaxPool2D(pool_size=2),\n",
    "    keras.layers.Flatten(),\n",
    "    keras.layers.Dense(192),\n",
    "    keras.layers.Dense(2, activation=\"softmax\")\n",
    "])"
   ]
  },
  {
   "cell_type": "code",
   "execution_count": 7,
   "id": "ac628ed8",
   "metadata": {},
   "outputs": [
    {
     "name": "stdout",
     "output_type": "stream",
     "text": [
      "Model: \"sequential\"\n",
      "_________________________________________________________________\n",
      "Layer (type)                 Output Shape              Param #   \n",
      "=================================================================\n",
      "rescaling (Rescaling)        (None, 28, 28, 1)         0         \n",
      "_________________________________________________________________\n",
      "conv2d (Conv2D)              (None, 24, 24, 6)         156       \n",
      "_________________________________________________________________\n",
      "max_pooling2d (MaxPooling2D) (None, 12, 12, 6)         0         \n",
      "_________________________________________________________________\n",
      "max_pooling2d_1 (MaxPooling2 (None, 6, 6, 6)           0         \n",
      "_________________________________________________________________\n",
      "flatten (Flatten)            (None, 216)               0         \n",
      "_________________________________________________________________\n",
      "dense (Dense)                (None, 192)               41664     \n",
      "_________________________________________________________________\n",
      "dense_1 (Dense)              (None, 2)                 386       \n",
      "=================================================================\n",
      "Total params: 42,206\n",
      "Trainable params: 42,206\n",
      "Non-trainable params: 0\n",
      "_________________________________________________________________\n"
     ]
    }
   ],
   "source": [
    "model.summary()"
   ]
  },
  {
   "cell_type": "code",
   "execution_count": 8,
   "id": "cb04a615-11de-4f8c-aae1-bac9e9de2c13",
   "metadata": {},
   "outputs": [],
   "source": [
    "model.compile(optimizer='adam',\n",
    "              loss=tf.keras.losses.SparseCategoricalCrossentropy(from_logits=True),\n",
    "              metrics=['accuracy'])"
   ]
  },
  {
   "cell_type": "raw",
   "id": "51d77885-2186-4b89-810b-4c81591c24c6",
   "metadata": {},
   "source": [
    "model.compile(loss='binary_crossentropy',\n",
    "              optimizer=tf.keras.optimizers.RMSprop(lr=0.005),\n",
    "              metrics='accuracy')"
   ]
  },
  {
   "cell_type": "code",
   "execution_count": 9,
   "id": "3bf4160a",
   "metadata": {},
   "outputs": [
    {
     "name": "stdout",
     "output_type": "stream",
     "text": [
      "Epoch 1/10\n",
      "119/119 [==============================] - 3s 22ms/step - loss: 0.4883 - accuracy: 0.8244 - val_loss: 0.4241 - val_accuracy: 0.8879\n",
      "Epoch 2/10\n",
      "119/119 [==============================] - 2s 20ms/step - loss: 0.3944 - accuracy: 0.9209 - val_loss: 0.3818 - val_accuracy: 0.9323\n",
      "Epoch 3/10\n",
      "119/119 [==============================] - 2s 20ms/step - loss: 0.3702 - accuracy: 0.9441 - val_loss: 0.3722 - val_accuracy: 0.9429\n",
      "Epoch 4/10\n",
      "119/119 [==============================] - 2s 20ms/step - loss: 0.3572 - accuracy: 0.9599 - val_loss: 0.3712 - val_accuracy: 0.9471\n",
      "Epoch 5/10\n",
      "119/119 [==============================] - 2s 19ms/step - loss: 0.3589 - accuracy: 0.9552 - val_loss: 0.3511 - val_accuracy: 0.9641\n",
      "Epoch 6/10\n",
      "119/119 [==============================] - 2s 20ms/step - loss: 0.3459 - accuracy: 0.9710 - val_loss: 0.3509 - val_accuracy: 0.9619\n",
      "Epoch 7/10\n",
      "119/119 [==============================] - 2s 19ms/step - loss: 0.3419 - accuracy: 0.9705 - val_loss: 0.3464 - val_accuracy: 0.9683\n",
      "Epoch 8/10\n",
      "119/119 [==============================] - 2s 19ms/step - loss: 0.3374 - accuracy: 0.9763 - val_loss: 0.3477 - val_accuracy: 0.9619\n",
      "Epoch 9/10\n",
      "119/119 [==============================] - 2s 20ms/step - loss: 0.3378 - accuracy: 0.9747 - val_loss: 0.3444 - val_accuracy: 0.9704\n",
      "Epoch 10/10\n",
      "119/119 [==============================] - 2s 19ms/step - loss: 0.3354 - accuracy: 0.9784 - val_loss: 0.3457 - val_accuracy: 0.9704\n"
     ]
    }
   ],
   "source": [
    "epochs = 10\n",
    "history = model.fit(\n",
    "    ds_train, batch_size=16, epochs=epochs, verbose=1,\n",
    "    validation_data=ds_validation, shuffle=True,\n",
    ")"
   ]
  },
  {
   "cell_type": "code",
   "execution_count": 10,
   "id": "e191e512-74c0-4413-b398-2b52970504ea",
   "metadata": {},
   "outputs": [
    {
     "data": {
      "image/png": "[encoded data removed]",
      "text/plain": [
       "<Figure size 576x576 with 2 Axes>"
      ]
     },
     "metadata": {
      "needs_background": "light"
     },
     "output_type": "display_data"
    }
   ],
   "source": [
    "acc = history.history['accuracy']\n",
    "val_acc = history.history['val_accuracy']\n",
    "\n",
    "loss = history.history['loss']\n",
    "val_loss = history.history['val_loss']\n",
    "\n",
    "epochs_range = range(epochs)\n",
    "\n",
    "plt.figure(figsize=(8, 8))\n",
    "plt.subplot(1, 2, 1)\n",
    "plt.plot(epochs_range, acc, label='Training Accuracy')\n",
    "plt.plot(epochs_range, val_acc, label='Validation Accuracy')\n",
    "plt.legend(loc='lower right')\n",
    "plt.title('Training and Validation Accuracy')\n",
    "\n",
    "plt.subplot(1, 2, 2)\n",
    "plt.plot(epochs_range, loss, label='Training Loss')\n",
    "plt.plot(epochs_range, val_loss, label='Validation Loss')\n",
    "plt.legend(loc='upper right')\n",
    "plt.title('Training and Validation Loss')\n",
    "plt.show()"
   ]
  },
  {
   "cell_type": "markdown",
   "id": "1f9c8607-651a-4b27-a8e6-c4f3228409e1",
   "metadata": {},
   "source": [
    "## Validation"
   ]
  },
  {
   "cell_type": "code",
   "execution_count": 11,
   "id": "b26e9449-49c3-4b8c-857e-0b8bc3a3b8e1",
   "metadata": {},
   "outputs": [
    {
     "name": "stdout",
     "output_type": "stream",
     "text": [
      "Found 505 files belonging to 2 classes.\n"
     ]
    }
   ],
   "source": [
    "ds_test = keras.preprocessing.image_dataset_from_directory(\n",
    "    r\"C:\\Users\\VArri\\Documents\\PowerLines\\images\\visuel\\cropped_test\", \n",
    "    labels='inferred',\n",
    "    label_mode = \"binary\",\n",
    "    color_mode = 'grayscale',\n",
    "    batch_size = batch_size,\n",
    "    image_size = (img_height, img_width),\n",
    "    shuffle = True, \n",
    "    seed=123,\n",
    ")\n"
   ]
  },
  {
   "cell_type": "code",
   "execution_count": 12,
   "id": "726bc8df-73b1-46c9-b9ee-728fe5fc9bed",
   "metadata": {},
   "outputs": [
    {
     "name": "stdout",
     "output_type": "stream",
     "text": [
      "505\n",
      "505\n",
      "Accuracy is 48.51485148514851 %\n",
      "Recall is 48.3739837398374 %\n",
      "TP = 119\n",
      "FP = 133\n",
      "TN = 126\n",
      "FN = 127\n"
     ]
    }
   ],
   "source": [
    "predict = model.predict(ds_test)\n",
    "TP, FP, TN, FN = 0,0,0,0\n",
    "\n",
    "y = np.concatenate([y for x, y in ds_test], axis=0)\n",
    "print(len(y))\n",
    "\n",
    "predict = np.argmax(predict, axis=1)\n",
    "print(len(predict))\n",
    "\n",
    "for i in range(len(predict)):\n",
    "    if predict[i]==y[i] and predict[i]==1:\n",
    "        TP+=1\n",
    "    elif predict[i]==y[i] and predict[i]==0:\n",
    "        TN+=1\n",
    "    elif predict[i]!=y[i] and predict[i]==1:\n",
    "        FP+=1\n",
    "    elif predict[i]!=y[i] and predict[i]==0:\n",
    "        FN+=1\n",
    "\n",
    "acc = (TP+TN)/(TP+TN+FP+FN)\n",
    "recall = TP / (TP + FN)\n",
    "print('Accuracy is {} %'.format(acc*100))\n",
    "print('Recall is {} %'.format(recall*100))\n",
    "\n",
    "print('TP = {}'.format(TP))\n",
    "print('FP = {}'.format(FP))\n",
    "print('TN = {}'.format(TN))\n",
    "print('FN = {}'.format(FN))"
   ]
  },
  {
   "cell_type": "raw",
   "id": "c371718b-8b3a-436d-b7fd-460e82fd8f30",
   "metadata": {},
   "source": [
    "Recall = TruePositives / (TruePositives + FalseNegatives)"
   ]
  }
 ],
 "metadata": {
  "kernelspec": {
   "display_name": "Python 3",
   "language": "python",
   "name": "python3"
  },
  "language_info": {
   "codemirror_mode": {
    "name": "ipython",
    "version": 3
   },
   "file_extension": ".py",
   "mimetype": "text/x-python",
   "name": "python",
   "nbconvert_exporter": "python",
   "pygments_lexer": "ipython3",
   "version": "3.8.8"
  }
 },
 "nbformat": 4,
 "nbformat_minor": 5
}
