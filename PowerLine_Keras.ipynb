{
 "cells": [
  {
   "cell_type": "markdown",
   "id": "68486009",
   "metadata": {},
   "source": [
    "# Power Line Detection via Background Noise Removal\n",
    "\n",
    "https://www.tensorflow.org/tutorials/images/classification"
   ]
  },
  {
   "cell_type": "code",
   "execution_count": 1,
   "id": "1aa05347",
   "metadata": {},
   "outputs": [],
   "source": [
    "import tensorflow as tf\n",
    "import tensorflow.keras as keras\n",
    "import numpy as np\n",
    "import matplotlib.pyplot as plt\n",
    "import os"
   ]
  },
  {
   "cell_type": "code",
   "execution_count": 2,
   "id": "788ea5d5",
   "metadata": {},
   "outputs": [
    {
     "name": "stdout",
     "output_type": "stream",
     "text": [
      "C:\\Users\\VArri\\Documents\\PowerLines\\images\\visuel\\cropped\n"
     ]
    }
   ],
   "source": [
    "os.chdir(r\"C:\\Users\\VArri\\Documents\\PowerLines\\images\\visuel\\cropped\")\n",
    "print(os.getcwd())\n",
    "path = os.getcwd()"
   ]
  },
  {
   "cell_type": "markdown",
   "id": "c0acf946",
   "metadata": {},
   "source": [
    "## Creation du dataset avec les contours annotés de la Power Line Detection "
   ]
  },
  {
   "cell_type": "code",
   "execution_count": null,
   "id": "7534b80a-eb2b-4aa0-ac58-e8c80d76a261",
   "metadata": {},
   "outputs": [],
   "source": [
    "img_height = 28\n",
    "img_width = 28\n",
    "batch_size = 16\n",
    "\n",
    "# https://www.tensorflow.org/api_docs/python/tf/keras/preprocessing/image_dataset_from_directory\n",
    "# https://www.youtube.com/watch?v=q7ZuZ8ZOErE\n",
    "# requires Tensorflow 2.3, hence Python >=3.7 to use keras.preprocessing.image_dataset_from_directory()\n",
    "\n",
    "ds_train = keras.preprocessing.image_dataset_from_directory(\n",
    "    r\"C:\\Users\\VArri\\Documents\\PowerLines\\images\\visuel\\cropped\", \n",
    "    labels='inferred',\n",
    "    label_mode = \"binary\",\n",
    "    color_mode = 'grayscale',\n",
    "    batch_size = batch_size,\n",
    "    image_size = (img_height, img_width),\n",
    "    shuffle = True, \n",
    "    seed=123,\n",
    "    validation_split = 0.2,\n",
    "    subset = \"training\",\n",
    ")\n",
    "\n",
    "ds_validation = keras.preprocessing.image_dataset_from_directory(\n",
    "    r\"C:\\Users\\VArri\\Documents\\PowerLines\\images\\visuel\\cropped\", \n",
    "    labels='inferred',\n",
    "    label_mode = \"binary\",\n",
    "    color_mode = 'grayscale',\n",
    "    batch_size = batch_size,\n",
    "    image_size = (img_height, img_width),\n",
    "    shuffle = True, \n",
    "    seed=123,\n",
    "    validation_split = 0.2,\n",
    "    subset = \"validation\",\n",
    ")"
   ]
  },
  {
   "cell_type": "code",
   "execution_count": null,
   "id": "884011fa-7fba-4f05-9427-b5f142383785",
   "metadata": {},
   "outputs": [],
   "source": [
    "class_names = ds_train.class_names\n",
    "print(class_names)"
   ]
  },
  {
   "cell_type": "code",
   "execution_count": null,
   "id": "f21a715e-f29b-4110-98f8-e65ab9385339",
   "metadata": {},
   "outputs": [],
   "source": [
    "import matplotlib.pyplot as plt\n",
    "\n",
    "plt.figure(figsize=(10, 10))\n",
    "for images, labels in ds_train.take(1):\n",
    "    for i in range(9):\n",
    "        ax = plt.subplot(3, 3, i + 1)\n",
    "        plt.imshow(images[i].numpy().astype(\"uint8\"))\n",
    "        plt.title(class_names[int(labels[i])])\n",
    "        plt.axis(\"off\")"
   ]
  },
  {
   "cell_type": "markdown",
   "id": "daa3e0e2",
   "metadata": {},
   "source": [
    "## D) CNN classifier"
   ]
  },
  {
   "cell_type": "code",
   "execution_count": 6,
   "id": "5fc51a07",
   "metadata": {},
   "outputs": [],
   "source": [
    "model = keras.models.Sequential([\n",
    "    keras.layers.experimental.preprocessing.Rescaling(1./255, input_shape=[28,28,1]),\n",
    "    keras.layers.Conv2D(6, kernel_size=5, strides=1, padding=\"valid\"),\n",
    "    keras.layers.MaxPool2D(pool_size=2),\n",
    "    keras.layers.Conv2D(12, kernel_size=5, strides=1, padding=\"valid\"),\n",
    "    keras.layers.MaxPool2D(pool_size=2),\n",
    "    keras.layers.Flatten(),\n",
    "    keras.layers.Dense(192),\n",
    "    keras.layers.Dense(1, activation=\"sigmoid\")\n",
    "])"
   ]
  },
  {
   "cell_type": "code",
   "execution_count": 7,
   "id": "ac628ed8",
   "metadata": {},
   "outputs": [
    {
     "name": "stdout",
     "output_type": "stream",
     "text": [
      "Model: \"sequential\"\n",
      "_________________________________________________________________\n",
      "Layer (type)                 Output Shape              Param #   \n",
      "=================================================================\n",
      "rescaling (Rescaling)        (None, 28, 28, 1)         0         \n",
      "_________________________________________________________________\n",
      "conv2d (Conv2D)              (None, 24, 24, 6)         156       \n",
      "_________________________________________________________________\n",
      "max_pooling2d (MaxPooling2D) (None, 12, 12, 6)         0         \n",
      "_________________________________________________________________\n",
      "conv2d_1 (Conv2D)            (None, 8, 8, 12)          1812      \n",
      "_________________________________________________________________\n",
      "max_pooling2d_1 (MaxPooling2 (None, 4, 4, 12)          0         \n",
      "_________________________________________________________________\n",
      "flatten (Flatten)            (None, 192)               0         \n",
      "_________________________________________________________________\n",
      "dense (Dense)                (None, 192)               37056     \n",
      "_________________________________________________________________\n",
      "dense_1 (Dense)              (None, 1)                 193       \n",
      "=================================================================\n",
      "Total params: 39,217\n",
      "Trainable params: 39,217\n",
      "Non-trainable params: 0\n",
      "_________________________________________________________________\n"
     ]
    }
   ],
   "source": [
    "model.summary()"
   ]
  },
  {
   "cell_type": "raw",
   "id": "cf0ab3f0-444f-498c-87dc-36479ed8cc6c",
   "metadata": {},
   "source": [
    "model.compile(optimizer='adam',\n",
    "              loss=tf.keras.losses.SparseCategoricalCrossentropy(from_logits=True),\n",
    "              metrics=['accuracy'])"
   ]
  },
  {
   "cell_type": "code",
   "execution_count": 8,
   "id": "c34c2d7a-9d06-441c-8970-e66a5b1a3939",
   "metadata": {},
   "outputs": [],
   "source": [
    "model.compile(loss='binary_crossentropy',\n",
    "              #optimizer=tf.keras.optimizers.RMSprop(lr=0.005),\n",
    "              optimizer='adam',\n",
    "              metrics='accuracy')"
   ]
  },
  {
   "cell_type": "code",
   "execution_count": 9,
   "id": "3bf4160a",
   "metadata": {},
   "outputs": [
    {
     "name": "stdout",
     "output_type": "stream",
     "text": [
      "Epoch 1/10\n",
      "119/119 [==============================] - 3s 22ms/step - loss: 0.3707 - accuracy: 0.8323 - val_loss: 0.2443 - val_accuracy: 0.8985\n",
      "Epoch 2/10\n",
      "119/119 [==============================] - 2s 19ms/step - loss: 0.1928 - accuracy: 0.9146 - val_loss: 0.1894 - val_accuracy: 0.9366\n",
      "Epoch 3/10\n",
      "119/119 [==============================] - 3s 21ms/step - loss: 0.1209 - accuracy: 0.9546 - val_loss: 0.1608 - val_accuracy: 0.9429\n",
      "Epoch 4/10\n",
      "119/119 [==============================] - 2s 19ms/step - loss: 0.1112 - accuracy: 0.9578 - val_loss: 0.1695 - val_accuracy: 0.9450\n",
      "Epoch 5/10\n",
      "119/119 [==============================] - 2s 20ms/step - loss: 0.1337 - accuracy: 0.9536 - val_loss: 0.1434 - val_accuracy: 0.9450\n",
      "Epoch 6/10\n",
      "119/119 [==============================] - 2s 19ms/step - loss: 0.0847 - accuracy: 0.9689 - val_loss: 0.1154 - val_accuracy: 0.9577\n",
      "Epoch 7/10\n",
      "119/119 [==============================] - 2s 19ms/step - loss: 0.0770 - accuracy: 0.9684 - val_loss: 0.1190 - val_accuracy: 0.9598\n",
      "Epoch 8/10\n",
      "119/119 [==============================] - 2s 19ms/step - loss: 0.0627 - accuracy: 0.9757 - val_loss: 0.0921 - val_accuracy: 0.9662\n",
      "Epoch 9/10\n",
      "119/119 [==============================] - 2s 19ms/step - loss: 0.0527 - accuracy: 0.9789 - val_loss: 0.1141 - val_accuracy: 0.9641\n",
      "Epoch 10/10\n",
      "119/119 [==============================] - 2s 19ms/step - loss: 0.0521 - accuracy: 0.9784 - val_loss: 0.0898 - val_accuracy: 0.9725\n"
     ]
    }
   ],
   "source": [
    "epochs = 10\n",
    "history = model.fit(\n",
    "    ds_train, batch_size=16, epochs=epochs, verbose=1,\n",
    "    validation_data=ds_validation, shuffle=True,\n",
    ")"
   ]
  },
  {
   "cell_type": "code",
   "execution_count": 10,
   "id": "e191e512-74c0-4413-b398-2b52970504ea",
   "metadata": {},
   "outputs": [
    {
     "data": {
      "image/png": "[encoded data removed]",
      "text/plain": [
       "<Figure size 576x576 with 2 Axes>"
      ]
     },
     "metadata": {
      "needs_background": "light"
     },
     "output_type": "display_data"
    }
   ],
   "source": [
    "acc = history.history['accuracy']\n",
    "val_acc = history.history['val_accuracy']\n",
    "\n",
    "loss = history.history['loss']\n",
    "val_loss = history.history['val_loss']\n",
    "\n",
    "epochs_range = range(epochs)\n",
    "\n",
    "plt.figure(figsize=(8, 8))\n",
    "plt.subplot(1, 2, 1)\n",
    "plt.plot(epochs_range, acc, label='Training Accuracy')\n",
    "plt.plot(epochs_range, val_acc, label='Validation Accuracy')\n",
    "plt.legend(loc='lower right')\n",
    "plt.title('Training and Validation Accuracy')\n",
    "\n",
    "plt.subplot(1, 2, 2)\n",
    "plt.plot(epochs_range, loss, label='Training Loss')\n",
    "plt.plot(epochs_range, val_loss, label='Validation Loss')\n",
    "plt.legend(loc='upper right')\n",
    "plt.title('Training and Validation Loss')\n",
    "plt.show()"
   ]
  },
  {
   "cell_type": "markdown",
   "id": "1f9c8607-651a-4b27-a8e6-c4f3228409e1",
   "metadata": {},
   "source": [
    "## Validation"
   ]
  },
  {
   "cell_type": "code",
   "execution_count": 11,
   "id": "b26e9449-49c3-4b8c-857e-0b8bc3a3b8e1",
   "metadata": {},
   "outputs": [
    {
     "name": "stdout",
     "output_type": "stream",
     "text": [
      "Found 505 files belonging to 2 classes.\n"
     ]
    }
   ],
   "source": [
    "ds_test = keras.preprocessing.image_dataset_from_directory(\n",
    "    r\"C:\\Users\\VArri\\Documents\\PowerLines\\images\\visuel\\cropped_test\", \n",
    "    labels='inferred',\n",
    "    label_mode = \"binary\",\n",
    "    color_mode = 'grayscale',\n",
    "    batch_size = batch_size,\n",
    "    image_size = (img_height, img_width),\n",
    "    shuffle = True, \n",
    "    seed=123,\n",
    ")\n"
   ]
  },
  {
   "cell_type": "code",
   "execution_count": 17,
   "id": "365d3551-be8f-401e-8942-bbbd9c036d2f",
   "metadata": {},
   "outputs": [],
   "source": [
    "predict = model.predict(ds_train)"
   ]
  },
  {
   "cell_type": "code",
   "execution_count": 18,
   "id": "726bc8df-73b1-46c9-b9ee-728fe5fc9bed",
   "metadata": {},
   "outputs": [
    {
     "name": "stdout",
     "output_type": "stream",
     "text": [
      "1896\n",
      "1896\n",
      "Accuracy is 47.89029535864979 %\n",
      "Recall is 0.0 %\n",
      "TP = 0\n",
      "FP = 0\n",
      "TN = 908\n",
      "FN = 988\n"
     ]
    }
   ],
   "source": [
    "TP, FP, TN, FN = 0,0,0,0\n",
    "\n",
    "y = np.concatenate([y for x, y in ds_train], axis=0)\n",
    "print(len(y))\n",
    "\n",
    "predict = np.argmax(predict, axis=1)\n",
    "print(len(predict))\n",
    "\n",
    "for i in range(len(predict)):\n",
    "    if predict[i]==y[i] and predict[i]==1:\n",
    "        TP+=1\n",
    "    elif predict[i]==y[i] and predict[i]==0:\n",
    "        TN+=1\n",
    "    elif predict[i]!=y[i] and predict[i]==1:\n",
    "        FP+=1\n",
    "    elif predict[i]!=y[i] and predict[i]==0:\n",
    "        FN+=1\n",
    "\n",
    "acc = (TP+TN)/(TP+TN+FP+FN)\n",
    "recall = TP / (TP + FN)\n",
    "print('Accuracy is {} %'.format(acc*100))\n",
    "print('Recall is {} %'.format(recall*100))\n",
    "\n",
    "print('TP = {}'.format(TP))\n",
    "print('FP = {}'.format(FP))\n",
    "print('TN = {}'.format(TN))\n",
    "print('FN = {}'.format(FN))"
   ]
  },
  {
   "cell_type": "code",
   "execution_count": 19,
   "id": "21645c94-56c4-4ec1-be64-01309cbfbbbe",
   "metadata": {},
   "outputs": [
    {
     "data": {
      "image/png": "[encoded data removed]",
      "text/plain": [
       "<Figure size 720x720 with 9 Axes>"
      ]
     },
     "metadata": {
      "needs_background": "light"
     },
     "output_type": "display_data"
    }
   ],
   "source": [
    "import matplotlib.pyplot as plt\n",
    "\n",
    "plt.figure(figsize=(10, 10))\n",
    "for images, labels in ds_train.take(1):\n",
    "    for i in range(9):\n",
    "        ax = plt.subplot(3, 3, i + 1)\n",
    "        plt.imshow(images[i].numpy().astype(\"uint8\"))\n",
    "        #plt.title(class_names[int(predict[i])])\n",
    "        plt.axis(\"off\")"
   ]
  },
  {
   "cell_type": "code",
   "execution_count": 20,
   "id": "3dd88d79-2194-4be4-bdcc-8ab12b47330c",
   "metadata": {},
   "outputs": [
    {
     "data": {
      "text/plain": [
       "<tf.Tensor: shape=(16, 1), dtype=float32, numpy=\n",
       "array([[0.],\n",
       "       [1.],\n",
       "       [1.],\n",
       "       [0.],\n",
       "       [1.],\n",
       "       [0.],\n",
       "       [0.],\n",
       "       [1.],\n",
       "       [1.],\n",
       "       [0.],\n",
       "       [1.],\n",
       "       [0.],\n",
       "       [1.],\n",
       "       [1.],\n",
       "       [1.],\n",
       "       [0.]], dtype=float32)>"
      ]
     },
     "execution_count": 20,
     "metadata": {},
     "output_type": "execute_result"
    }
   ],
   "source": [
    "labels"
   ]
  },
  {
   "cell_type": "code",
   "execution_count": 21,
   "id": "cddbbfff-e453-4091-9652-860a25d752de",
   "metadata": {},
   "outputs": [
    {
     "data": {
      "text/plain": [
       "array([0, 0, 0, 0, 0, 0, 0, 0, 0, 0], dtype=int64)"
      ]
     },
     "execution_count": 21,
     "metadata": {},
     "output_type": "execute_result"
    }
   ],
   "source": [
    "predict[:10]"
   ]
  },
  {
   "cell_type": "code",
   "execution_count": null,
   "id": "cba44f2c-9f26-4fc3-a422-3138fefa67a6",
   "metadata": {},
   "outputs": [],
   "source": []
  }
 ],
 "metadata": {
  "kernelspec": {
   "display_name": "Python 3",
   "language": "python",
   "name": "python3"
  },
  "language_info": {
   "codemirror_mode": {
    "name": "ipython",
    "version": 3
   },
   "file_extension": ".py",
   "mimetype": "text/x-python",
   "name": "python",
   "nbconvert_exporter": "python",
   "pygments_lexer": "ipython3",
   "version": "3.8.8"
  }
 },
 "nbformat": 4,
 "nbformat_minor": 5
}
