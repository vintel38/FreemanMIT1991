{
 "cells": [
  {
   "cell_type": "markdown",
   "id": "68486009",
   "metadata": {},
   "source": [
    "# Power Line Detection via Background Noise Removal for Colorful Images\n",
    "\n",
    "https://www.tensorflow.org/tutorials/images/classification"
   ]
  },
  {
   "cell_type": "code",
   "execution_count": 1,
   "id": "1aa05347",
   "metadata": {},
   "outputs": [],
   "source": [
    "import tensorflow as tf\n",
    "import tensorflow.keras as keras\n",
    "import numpy as np\n",
    "import matplotlib.pyplot as plt\n",
    "import os"
   ]
  },
  {
   "cell_type": "code",
   "execution_count": 2,
   "id": "788ea5d5",
   "metadata": {},
   "outputs": [
    {
     "name": "stdout",
     "output_type": "stream",
     "text": [
      "C:\\Users\\VArri\\Documents\\PowerLines\\images\\visuel\\color_version\\cropped\n"
     ]
    }
   ],
   "source": [
    "os.chdir(r\"C:\\Users\\VArri\\Documents\\PowerLines\\images\\visuel\\color_version\\cropped\")\n",
    "print(os.getcwd())\n",
    "path = os.getcwd()"
   ]
  },
  {
   "cell_type": "markdown",
   "id": "c0acf946",
   "metadata": {},
   "source": [
    "## Creation du dataset avec les contours annotés de la Power Line Detection "
   ]
  },
  {
   "cell_type": "raw",
   "id": "09622387",
   "metadata": {},
   "source": [
    "lst = os.listdir()\n",
    "imageslst = list()\n",
    "labelslst = list()\n",
    "labels = list()\n",
    "\n",
    "for lis in lst:\n",
    "    \n",
    "    if (lis.endswith('.jpg') or lis.endswith('.jpeg')):\n",
    "        \n",
    "        filename, extension = lis.split('.')\n",
    "        filetxt = '.'.join((filename, 'txt'))\n",
    "        \n",
    "        if os.path.exists(filetxt):\n",
    "            imageslst.append(os.path.join(path,lis))\n",
    "            labelslst.append(os.path.join(path, filetxt))\n",
    "            f = open(filetxt, \"r\")\n",
    "            labels.append(int(f.read()))\n",
    "            f.close()\n",
    "\n",
    "# print(labels)\n",
    "            \n",
    "# Convert to tensors\n",
    "imagepaths = tf.convert_to_tensor(imageslst, dtype=tf.string)\n",
    "labelpaths = tf.convert_to_tensor(labelslst, dtype=tf.string)\n",
    "labels = tf.convert_to_tensor(labels, dtype=tf.int8)\n",
    "\n",
    "# https://rubikscode.net/2019/12/09/creating-custom-tensorflow-dataset/\n",
    "\n",
    "# https://stackoverflow.com/questions/37340129/tensorflow-training-on-my-own-image\n",
    "# step 2: create a dataset returning slices of `filenames`\n",
    "dataset = tf.data.Dataset.from_tensor_slices((imagepaths, labels))\n",
    "\n",
    "# step 3: parse every image in the dataset using `map`\n",
    "def _parse_function(filename, label):\n",
    "    image_string = tf.io.read_file(filename)\n",
    "    image_decoded = tf.image.decode_jpeg(image_string, channels=1)\n",
    "    image = tf.cast(image_decoded, tf.float32)\n",
    "    return image, label\n",
    "\n",
    "dataset = dataset.map(_parse_function)\n",
    "#dataset = dataset.batch(2)\n",
    "\n",
    "# step 4: create iterator and final input tensor\n",
    "iterator = tf.compat.v1.data.make_one_shot_iterator(dataset) # génère un itérateur pour naviguer facilement dans le dataset\n",
    "images, labels = iterator.get_next() # retourne le prochain élément d'un dataset Tensorflow "
   ]
  },
  {
   "cell_type": "raw",
   "id": "ddb2790a",
   "metadata": {},
   "source": [
    "images.shape"
   ]
  },
  {
   "cell_type": "raw",
   "id": "861aa516",
   "metadata": {},
   "source": [
    "labels.shape"
   ]
  },
  {
   "cell_type": "code",
   "execution_count": 3,
   "id": "17cbf6a7",
   "metadata": {},
   "outputs": [
    {
     "name": "stdout",
     "output_type": "stream",
     "text": [
      "Found 2034 files belonging to 2 classes.\n",
      "Using 1628 files for training.\n",
      "Found 2034 files belonging to 2 classes.\n",
      "Using 406 files for validation.\n"
     ]
    }
   ],
   "source": [
    "img_height = 28\n",
    "img_width = 28\n",
    "batch_size = 32\n",
    "\n",
    "# https://www.tensorflow.org/api_docs/python/tf/keras/preprocessing/image_dataset_from_directory\n",
    "# https://www.youtube.com/watch?v=q7ZuZ8ZOErE\n",
    "# requires Tensorflow 2.3, hence Python >=3.7 to use keras.preprocessing.image_dataset_from_directory()\n",
    "\n",
    "ds_train = keras.preprocessing.image_dataset_from_directory(\n",
    "    r\"C:\\Users\\VArri\\Documents\\PowerLines\\images\\visuel\\color_version\\cropped\", \n",
    "    labels='inferred',\n",
    "    label_mode = \"binary\",\n",
    "    color_mode = \"rgb\",\n",
    "    batch_size = batch_size,\n",
    "    image_size = (img_height, img_width),\n",
    "    shuffle = True, \n",
    "    seed=123,\n",
    "    validation_split = 0.2,\n",
    "    subset = \"training\",\n",
    ")\n",
    "\n",
    "ds_validation = keras.preprocessing.image_dataset_from_directory(\n",
    "    r\"C:\\Users\\VArri\\Documents\\PowerLines\\images\\visuel\\color_version\\cropped\", \n",
    "    labels='inferred',\n",
    "    label_mode = \"binary\",\n",
    "    color_mode = \"rgb\",\n",
    "    batch_size = batch_size,\n",
    "    image_size = (img_height, img_width),\n",
    "    shuffle = True, \n",
    "    seed=123,\n",
    "    validation_split = 0.2,\n",
    "    subset = \"validation\",\n",
    ")"
   ]
  },
  {
   "cell_type": "raw",
   "id": "9634e09d-dfb4-4226-a9b2-a419ded9722c",
   "metadata": {},
   "source": [
    "import tensorflow as tf\n",
    "import os\n",
    "\n",
    "def validate_image(file_name):\n",
    "    tf.py_function(tf.print, inp=[file_name], Tout=[])\n",
    "    image = tf.io.read_file(file_name)\n",
    "    image = tf.io.decode_image(image, channels=3)\n",
    "    return image\n",
    "\n",
    "os.chdir(r\"C:\\Users\\VArri\\Documents\\PowerLines\\images\\visuel\\color_version\\cropped\\0\")\n",
    "\n",
    "accepted_extensions = ('jpeg', 'png', 'bmp', 'gif')\n",
    "\n",
    "files = list(filter(lambda x: x.lower().endswith(accepted_extensions), os.listdir()))\n",
    "\n",
    "ds = tf.data.Dataset.from_tensor_slices(files).map(validate_image)\n",
    "\n",
    "for i in ds:\n",
    "    pass\n",
    "\n",
    "# https://stackoverflow.com/questions/65833770/invalidargumenterror-assertion-failed-unable-to-decode-bytes-as-jpeg-png-gi"
   ]
  },
  {
   "cell_type": "code",
   "execution_count": 4,
   "id": "92f77d0b-f4a2-48ad-8a5a-6164ddabb3bf",
   "metadata": {},
   "outputs": [
    {
     "name": "stdout",
     "output_type": "stream",
     "text": [
      "['0', '1']\n"
     ]
    }
   ],
   "source": [
    "class_names = ds_train.class_names\n",
    "print(class_names)"
   ]
  },
  {
   "cell_type": "code",
   "execution_count": 5,
   "id": "c2ddeffc-d8bc-46bf-ae6c-2efa46492ea0",
   "metadata": {},
   "outputs": [
    {
     "data": {
      "image/png": "[encoded data removed]",
      "text/plain": [
       "<Figure size 720x720 with 9 Axes>"
      ]
     },
     "metadata": {
      "needs_background": "light"
     },
     "output_type": "display_data"
    }
   ],
   "source": [
    "import matplotlib.pyplot as plt\n",
    "\n",
    "plt.figure(figsize=(10, 10))\n",
    "for images, labels in ds_train.take(1):\n",
    "    for i in range(9):\n",
    "        ax = plt.subplot(3, 3, i + 1)\n",
    "        plt.imshow(images[i].numpy().astype(\"uint8\"))\n",
    "        plt.title(class_names[int(labels[i])])\n",
    "        plt.axis(\"off\")"
   ]
  },
  {
   "cell_type": "markdown",
   "id": "daa3e0e2",
   "metadata": {},
   "source": [
    "## D) CNN classifier"
   ]
  },
  {
   "cell_type": "code",
   "execution_count": 6,
   "id": "5fc51a07",
   "metadata": {},
   "outputs": [],
   "source": [
    "model = keras.models.Sequential([\n",
    "    keras.layers.experimental.preprocessing.Rescaling(1./255, input_shape=[28,28,3]),\n",
    "    keras.layers.Conv2D(6, kernel_size=5, strides=1, padding=\"valid\", activation='relu'),\n",
    "    keras.layers.MaxPool2D(pool_size=2),\n",
    "    keras.layers.Conv2D(12, kernel_size=5, strides=1, padding=\"valid\", activation='relu'),\n",
    "    keras.layers.MaxPool2D(pool_size=2),\n",
    "    keras.layers.Flatten(),\n",
    "    keras.layers.Dense(192),\n",
    "    keras.layers.Dense(2, activation=\"softmax\")\n",
    "])"
   ]
  },
  {
   "cell_type": "code",
   "execution_count": 7,
   "id": "ac628ed8",
   "metadata": {},
   "outputs": [
    {
     "name": "stdout",
     "output_type": "stream",
     "text": [
      "Model: \"sequential\"\n",
      "_________________________________________________________________\n",
      "Layer (type)                 Output Shape              Param #   \n",
      "=================================================================\n",
      "rescaling (Rescaling)        (None, 28, 28, 3)         0         \n",
      "_________________________________________________________________\n",
      "conv2d (Conv2D)              (None, 24, 24, 6)         456       \n",
      "_________________________________________________________________\n",
      "max_pooling2d (MaxPooling2D) (None, 12, 12, 6)         0         \n",
      "_________________________________________________________________\n",
      "conv2d_1 (Conv2D)            (None, 8, 8, 12)          1812      \n",
      "_________________________________________________________________\n",
      "max_pooling2d_1 (MaxPooling2 (None, 4, 4, 12)          0         \n",
      "_________________________________________________________________\n",
      "flatten (Flatten)            (None, 192)               0         \n",
      "_________________________________________________________________\n",
      "dense (Dense)                (None, 192)               37056     \n",
      "_________________________________________________________________\n",
      "dense_1 (Dense)              (None, 2)                 386       \n",
      "=================================================================\n",
      "Total params: 39,710\n",
      "Trainable params: 39,710\n",
      "Non-trainable params: 0\n",
      "_________________________________________________________________\n"
     ]
    }
   ],
   "source": [
    "model.summary()"
   ]
  },
  {
   "cell_type": "raw",
   "id": "1ba28495-d91a-453b-98e7-abe076d494a3",
   "metadata": {},
   "source": [
    "model.compile(optimizer='adam',\n",
    "              loss=tf.keras.losses.SparseCategoricalCrossentropy(from_logits=True),\n",
    "              metrics=['accuracy'])"
   ]
  },
  {
   "cell_type": "code",
   "execution_count": 8,
   "id": "22439aed-cc2a-4065-a4b7-659654bd907c",
   "metadata": {},
   "outputs": [],
   "source": [
    "model.compile(loss='binary_crossentropy',\n",
    "              optimizer=tf.keras.optimizers.RMSprop(lr=0.005),\n",
    "              metrics=['accuracy'])"
   ]
  },
  {
   "cell_type": "code",
   "execution_count": 9,
   "id": "3bf4160a",
   "metadata": {},
   "outputs": [
    {
     "name": "stdout",
     "output_type": "stream",
     "text": [
      "Epoch 1/20\n",
      "51/51 [==============================] - 12s 236ms/step - loss: 0.7135 - accuracy: 0.4889 - val_loss: 0.6931 - val_accuracy: 0.5172\n",
      "Epoch 2/20\n",
      "51/51 [==============================] - 2s 38ms/step - loss: 0.6931 - accuracy: 0.4988 - val_loss: 0.6931 - val_accuracy: 0.5172\n",
      "Epoch 3/20\n",
      "51/51 [==============================] - 2s 38ms/step - loss: 0.6931 - accuracy: 0.4988 - val_loss: 0.6931 - val_accuracy: 0.5172\n",
      "Epoch 4/20\n",
      "51/51 [==============================] - 2s 38ms/step - loss: 0.6931 - accuracy: 0.4988 - val_loss: 0.6931 - val_accuracy: 0.5172\n",
      "Epoch 5/20\n",
      "51/51 [==============================] - 2s 38ms/step - loss: 0.6931 - accuracy: 0.4988 - val_loss: 0.6931 - val_accuracy: 0.5172\n",
      "Epoch 6/20\n",
      "51/51 [==============================] - 2s 38ms/step - loss: 0.6931 - accuracy: 0.4988 - val_loss: 0.6931 - val_accuracy: 0.5172\n",
      "Epoch 7/20\n",
      "51/51 [==============================] - 2s 37ms/step - loss: 0.6931 - accuracy: 0.4988 - val_loss: 0.6931 - val_accuracy: 0.5172\n",
      "Epoch 8/20\n",
      "51/51 [==============================] - 2s 39ms/step - loss: 0.6931 - accuracy: 0.4988 - val_loss: 0.6931 - val_accuracy: 0.5172\n",
      "Epoch 9/20\n",
      "51/51 [==============================] - 2s 39ms/step - loss: 0.6931 - accuracy: 0.4988 - val_loss: 0.6931 - val_accuracy: 0.5172\n",
      "Epoch 10/20\n",
      "51/51 [==============================] - 2s 38ms/step - loss: 0.6931 - accuracy: 0.4988 - val_loss: 0.6931 - val_accuracy: 0.5172\n",
      "Epoch 11/20\n",
      "51/51 [==============================] - 2s 38ms/step - loss: 0.6931 - accuracy: 0.4988 - val_loss: 0.6931 - val_accuracy: 0.5172\n",
      "Epoch 12/20\n",
      "51/51 [==============================] - 2s 39ms/step - loss: 0.6931 - accuracy: 0.4988 - val_loss: 0.6931 - val_accuracy: 0.5172\n",
      "Epoch 13/20\n",
      "51/51 [==============================] - 2s 38ms/step - loss: 0.6931 - accuracy: 0.4988 - val_loss: 0.6931 - val_accuracy: 0.5172\n",
      "Epoch 14/20\n",
      "51/51 [==============================] - 2s 41ms/step - loss: 0.6931 - accuracy: 0.4988 - val_loss: 0.6931 - val_accuracy: 0.5172\n",
      "Epoch 15/20\n",
      "51/51 [==============================] - 2s 40ms/step - loss: 0.6931 - accuracy: 0.4988 - val_loss: 0.6931 - val_accuracy: 0.5172\n",
      "Epoch 16/20\n",
      "51/51 [==============================] - 2s 41ms/step - loss: 0.6931 - accuracy: 0.4988 - val_loss: 0.6931 - val_accuracy: 0.5172\n",
      "Epoch 17/20\n",
      "51/51 [==============================] - 2s 38ms/step - loss: 0.6931 - accuracy: 0.4988 - val_loss: 0.6931 - val_accuracy: 0.5172\n",
      "Epoch 18/20\n",
      "51/51 [==============================] - 2s 38ms/step - loss: 0.6931 - accuracy: 0.4988 - val_loss: 0.6931 - val_accuracy: 0.5172\n",
      "Epoch 19/20\n",
      "51/51 [==============================] - 2s 39ms/step - loss: 0.6931 - accuracy: 0.4988 - val_loss: 0.6931 - val_accuracy: 0.5172\n",
      "Epoch 20/20\n",
      "51/51 [==============================] - 2s 40ms/step - loss: 0.6931 - accuracy: 0.4988 - val_loss: 0.6931 - val_accuracy: 0.5172\n"
     ]
    }
   ],
   "source": [
    "epochs=20\n",
    "history = model.fit(\n",
    "    ds_train, batch_size=32, epochs=epochs, verbose=1,\n",
    "    validation_data=ds_validation, shuffle=True,\n",
    ")\n",
    "\n",
    "# GITHUB ISSUE https://github.com/tensorflow/tensorflow/issues/13044 "
   ]
  },
  {
   "cell_type": "code",
   "execution_count": 10,
   "id": "e191e512-74c0-4413-b398-2b52970504ea",
   "metadata": {},
   "outputs": [
    {
     "data": {
      "image/png": "[encoded data removed]",
      "text/plain": [
       "<Figure size 576x576 with 2 Axes>"
      ]
     },
     "metadata": {
      "needs_background": "light"
     },
     "output_type": "display_data"
    }
   ],
   "source": [
    "acc = history.history['accuracy']\n",
    "val_acc = history.history['val_accuracy']\n",
    "\n",
    "loss = history.history['loss']\n",
    "val_loss = history.history['val_loss']\n",
    "\n",
    "epochs_range = range(epochs)\n",
    "\n",
    "plt.figure(figsize=(8, 8))\n",
    "plt.subplot(1, 2, 1)\n",
    "plt.plot(epochs_range, acc, label='Training Accuracy')\n",
    "plt.plot(epochs_range, val_acc, label='Validation Accuracy')\n",
    "plt.legend(loc='lower right')\n",
    "plt.title('Training and Validation Accuracy')\n",
    "\n",
    "plt.subplot(1, 2, 2)\n",
    "plt.plot(epochs_range, loss, label='Training Loss')\n",
    "plt.plot(epochs_range, val_loss, label='Validation Loss')\n",
    "plt.legend(loc='upper right')\n",
    "plt.title('Training and Validation Loss')\n",
    "plt.show()"
   ]
  },
  {
   "cell_type": "markdown",
   "id": "1f9c8607-651a-4b27-a8e6-c4f3228409e1",
   "metadata": {},
   "source": [
    "## Validation"
   ]
  },
  {
   "cell_type": "code",
   "execution_count": 11,
   "id": "b26e9449-49c3-4b8c-857e-0b8bc3a3b8e1",
   "metadata": {},
   "outputs": [
    {
     "name": "stdout",
     "output_type": "stream",
     "text": [
      "Found 475 files belonging to 2 classes.\n"
     ]
    }
   ],
   "source": [
    "ds_test = keras.preprocessing.image_dataset_from_directory(\n",
    "    r\"C:\\Users\\VArri\\Documents\\PowerLines\\images\\visuel\\color_version\\cropped_test\", \n",
    "    labels='inferred',\n",
    "    label_mode = \"binary\",\n",
    "    color_mode = 'rgb',\n",
    "    batch_size = batch_size,\n",
    "    image_size = (img_height, img_width),\n",
    "    shuffle = True, \n",
    "    seed=123,\n",
    ")\n"
   ]
  },
  {
   "cell_type": "code",
   "execution_count": 12,
   "id": "221980e6-4a40-4f88-8522-6bda054175b6",
   "metadata": {},
   "outputs": [
    {
     "name": "stdout",
     "output_type": "stream",
     "text": [
      "['0', '1']\n"
     ]
    }
   ],
   "source": [
    "print(ds_test.class_names)"
   ]
  },
  {
   "cell_type": "code",
   "execution_count": 13,
   "id": "cf5ac6fa-a838-442d-aad4-fe7e022534d4",
   "metadata": {},
   "outputs": [],
   "source": [
    "predict = model.predict(ds_test)"
   ]
  },
  {
   "cell_type": "code",
   "execution_count": 14,
   "id": "726bc8df-73b1-46c9-b9ee-728fe5fc9bed",
   "metadata": {},
   "outputs": [
    {
     "name": "stdout",
     "output_type": "stream",
     "text": [
      "475\n",
      "475\n",
      "Accuracy is 57.89473684210527 %\n",
      "Recall is 0.0 %\n"
     ]
    }
   ],
   "source": [
    "TP, FP, TN, FN = 0,0,0,0\n",
    "\n",
    "y = np.concatenate([y for x, y in ds_test], axis=0)\n",
    "print(len(y))\n",
    "\n",
    "predict = np.argmax(predict, axis=1)\n",
    "print(len(predict))\n",
    "\n",
    "for i in range(len(predict)):\n",
    "    if predict[i]==y[i] and predict[i]==1:\n",
    "        TP+=1\n",
    "    elif predict[i]==y[i] and predict[i]==0:\n",
    "        TN+=1\n",
    "    elif predict[i]!=y[i] and predict[i]==1:\n",
    "        FP+=1\n",
    "    elif predict[i]!=y[i] and predict[i]==0:\n",
    "        FN+=1\n",
    "\n",
    "acc = (TP+TN)/(TP+TN+FP+FN)\n",
    "recall = TP / (TP + FN)\n",
    "print('Accuracy is {} %'.format(acc*100))\n",
    "print('Recall is {} %'.format(recall*100))"
   ]
  },
  {
   "cell_type": "raw",
   "id": "c371718b-8b3a-436d-b7fd-460e82fd8f30",
   "metadata": {},
   "source": [
    "Recall = TruePositives / (TruePositives + FalseNegatives)"
   ]
  },
  {
   "cell_type": "code",
   "execution_count": null,
   "id": "3322a3bc-ba1a-420d-81d3-829699ac1746",
   "metadata": {},
   "outputs": [],
   "source": [
    "FN"
   ]
  },
  {
   "cell_type": "code",
   "execution_count": null,
   "id": "7a1c1049-d6f4-4468-8521-8423a8ef1b79",
   "metadata": {},
   "outputs": [],
   "source": [
    "TN"
   ]
  },
  {
   "cell_type": "code",
   "execution_count": null,
   "id": "8ee6f840-d053-4357-9ed8-0414c325dfda",
   "metadata": {},
   "outputs": [],
   "source": [
    "predict"
   ]
  },
  {
   "cell_type": "raw",
   "id": "2334fe12-0d64-4814-a352-ddcfd7d69976",
   "metadata": {},
   "source": [
    "Problem est peut - être la saturation brillance contraste des images \n",
    "sur certaines images on ne voit pas le cable \n",
    "\n",
    "https://docs.opencv.org/3.4/d3/dc1/tutorial_basic_linear_transform.html\n",
    "\n",
    "car l'essentiel des images sera probablement en contre jour \n",
    "\n"
   ]
  },
  {
   "cell_type": "code",
   "execution_count": null,
   "id": "5732ace0-7772-4743-a185-6c95e5008a9d",
   "metadata": {},
   "outputs": [],
   "source": [
    "os.chdir(r'C:\\Users\\VArri\\Documents\\PowerLines\\images\\visuel\\edge')\n",
    "print(os.getcwd())"
   ]
  },
  {
   "cell_type": "code",
   "execution_count": null,
   "id": "28edfe3f-86b9-48c5-972c-933def526720",
   "metadata": {},
   "outputs": [],
   "source": [
    "import cv2\n",
    "import matplotlib.pyplot as plt\n",
    "from random import randrange\n",
    "lst = os.listdir()\n",
    "img = cv2.imread(os.path.join(os.getcwd(), lst[randrange(0, len(lst))]))\n",
    "img = cv2.cvtColor(img, cv2.COLOR_BGR2RGB)\n",
    "print(img.shape)\n",
    "plt.figure(figsize=[10,20])\n",
    "plt.imshow(img)\n",
    "plt.show()"
   ]
  },
  {
   "cell_type": "code",
   "execution_count": null,
   "id": "f732bb3e-2e1f-485c-8f51-d59119cc66fe",
   "metadata": {},
   "outputs": [],
   "source": [
    "gamma = 0.5\n",
    "lookUpTable = np.empty((1,256), np.uint8)\n",
    "for i in range(256):\n",
    "    lookUpTable[0,i] = np.clip(pow(i / 255.0, gamma) * 255.0, 0, 255)\n",
    "res = cv2.LUT(img, lookUpTable)\n",
    "plt.figure(figsize=[10,20])\n",
    "plt.imshow(res)\n",
    "plt.show()"
   ]
  },
  {
   "cell_type": "code",
   "execution_count": null,
   "id": "7196eaea-f157-4cf8-90c1-18257cc057a7",
   "metadata": {},
   "outputs": [],
   "source": [
    "alpha = 1.5\n",
    "lookUpTable = np.empty((1,256), np.uint8)\n",
    "for i in range(256):\n",
    "    lookUpTable[0,i] = np.clip(alpha * i, 0, 255)\n",
    "res = cv2.LUT(img, lookUpTable)\n",
    "plt.figure(figsize=[10,20])\n",
    "plt.imshow(res)\n",
    "plt.show()\n",
    "\n",
    "# https://stackoverflow.com/questions/39308030/how-do-i-increase-the-contrast-of-an-image-in-python-opencv"
   ]
  },
  {
   "cell_type": "code",
   "execution_count": null,
   "id": "8951991d-0fc4-4cf6-a83f-ea7d25e47d93",
   "metadata": {},
   "outputs": [],
   "source": []
  }
 ],
 "metadata": {
  "kernelspec": {
   "display_name": "Python 3",
   "language": "python",
   "name": "python3"
  },
  "language_info": {
   "codemirror_mode": {
    "name": "ipython",
    "version": 3
   },
   "file_extension": ".py",
   "mimetype": "text/x-python",
   "name": "python",
   "nbconvert_exporter": "python",
   "pygments_lexer": "ipython3",
   "version": "3.8.8"
  }
 },
 "nbformat": 4,
 "nbformat_minor": 5
}
