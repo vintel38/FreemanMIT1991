{
 "cells": [
  {
   "cell_type": "markdown",
   "id": "02746b6e-cbc3-42ce-8419-b5a70cdd2851",
   "metadata": {},
   "source": [
    "# Utilities for treating the Images"
   ]
  },
  {
   "cell_type": "code",
   "execution_count": 30,
   "id": "438c3d40-b462-4fe1-93e7-b86261d14b6c",
   "metadata": {},
   "outputs": [],
   "source": [
    "import cv2\n",
    "import numpy as np\n",
    "import matplotlib.pyplot as plt \n",
    "import os"
   ]
  },
  {
   "cell_type": "code",
   "execution_count": 34,
   "id": "b4a5d8a0-2b2e-4e0c-a91f-18d138050212",
   "metadata": {},
   "outputs": [
    {
     "name": "stdout",
     "output_type": "stream",
     "text": [
      "C:\\Users\\VArri\\Documents\\PowerLines\\images\\visuel\\color_version\\cropped_test\\0\n"
     ]
    }
   ],
   "source": [
    "os.chdir(r'C:\\Users\\VArri\\Documents\\PowerLines\\images\\visuel\\color_version\\cropped_test\\0')\n",
    "path = os.getcwd()\n",
    "print(path)"
   ]
  },
  {
   "cell_type": "code",
   "execution_count": 35,
   "id": "fdb12d78-5fea-434f-8244-c5d34e073438",
   "metadata": {},
   "outputs": [],
   "source": [
    "def contrast(img, alpha = 1.5):\n",
    "    lookUpTable = np.empty((1,256), np.uint8)\n",
    "    for i in range(256):\n",
    "        lookUpTable[0,i] = np.clip(alpha * i, 0, 255)\n",
    "    res = cv2.LUT(img, lookUpTable)\n",
    "    \n",
    "    return res\n",
    "    \n",
    "# plt.figure(figsize=[10,20])\n",
    "#plt.imshow(res)\n",
    "#plt.show()\n",
    "\n",
    "# https://stackoverflow.com/questions/39308030/how-do-i-increase-the-contrast-of-an-image-in-python-opencv"
   ]
  },
  {
   "cell_type": "code",
   "execution_count": 36,
   "id": "481cd893-6412-4db3-8f2b-4f6c8300cfba",
   "metadata": {},
   "outputs": [
    {
     "data": {
      "image/png": "[encoded data removed]",
      "text/plain": [
       "<Figure size 720x720 with 1 Axes>"
      ]
     },
     "metadata": {
      "needs_background": "light"
     },
     "output_type": "display_data"
    }
   ],
   "source": [
    "lst = os.listdir()\n",
    "for img_path in lst:\n",
    "    res = contrast(cv2.cvtColor(cv2.imread(os.path.join(path, img_path)), cv2.COLOR_BGR2RGB))\n",
    "    cv2.imwrite('./'+img_path, res)\n",
    "plt.figure(figsize=[10,10])\n",
    "plt.imshow(res)\n",
    "plt.show()"
   ]
  },
  {
   "cell_type": "code",
   "execution_count": null,
   "id": "e26d0e07-250e-4063-9009-8e49bc80052d",
   "metadata": {},
   "outputs": [],
   "source": []
  }
 ],
 "metadata": {
  "kernelspec": {
   "display_name": "Python 3",
   "language": "python",
   "name": "python3"
  },
  "language_info": {
   "codemirror_mode": {
    "name": "ipython",
    "version": 3
   },
   "file_extension": ".py",
   "mimetype": "text/x-python",
   "name": "python",
   "nbconvert_exporter": "python",
   "pygments_lexer": "ipython3",
   "version": "3.8.8"
  }
 },
 "nbformat": 4,
 "nbformat_minor": 5
}
